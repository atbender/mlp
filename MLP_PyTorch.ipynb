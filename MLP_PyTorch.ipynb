{
  "nbformat": 4,
  "nbformat_minor": 0,
  "metadata": {
    "colab": {
      "name": "MLP PyTorch.ipynb",
      "version": "0.3.2",
      "provenance": [],
      "collapsed_sections": []
    },
    "kernelspec": {
      "name": "python3",
      "display_name": "Python 3"
    },
    "accelerator": "GPU"
  },
  "cells": [
    {
      "metadata": {
        "id": "MlmLKed7D84L",
        "colab_type": "text"
      },
      "cell_type": "markdown",
      "source": [
        "# Objetivos deste trabalho\n",
        "- Familiarizar-se com a biblioteca PyTorch\n",
        "- Definir arquiteturas MLP simples em PyTorch\n",
        "- Treinar utilizando CIFAR10, testando diferentes arquiteturas, parâmetros, funções de loss e otimizadores\n",
        "- Comparar os resultados obtidos utilizando apenas Perpceptrons"
      ]
    },
    {
      "metadata": {
        "id": "KC0oi8qJD84T",
        "colab_type": "code",
        "colab": {}
      },
      "cell_type": "code",
      "source": [
        "# importando bibliotecas necessárias\n",
        "\n",
        "%matplotlib inline\n",
        "\n",
        "import numpy as np \n",
        "import matplotlib.pyplot as plt\n",
        "\n",
        "import torch\n",
        "import torch.nn as nn\n",
        "from torch.utils.data import DataLoader\n",
        "\n",
        "import torchvision\n",
        "import torchvision.transforms as transforms"
      ],
      "execution_count": 0,
      "outputs": []
    },
    {
      "metadata": {
        "id": "Zs_noo89D84h",
        "colab_type": "code",
        "outputId": "1de59e61-3af2-400b-e8b0-407c1211b2b9",
        "colab": {
          "base_uri": "https://localhost:8080/",
          "height": 50
        }
      },
      "cell_type": "code",
      "source": [
        "# carregar os datasets\n",
        "\n",
        "# utilizando imagens em tons de cinza\n",
        "transform=transforms.Compose([\n",
        "    transforms.Grayscale(num_output_channels=1),\n",
        "    transforms.ToTensor()\n",
        "])\n",
        "\n",
        "dataset_train = torchvision.datasets.CIFAR10(root='./data', train=True,\n",
        "                                        download=True, transform=transform)\n",
        "\n",
        "dataset_test = torchvision.datasets.CIFAR10(root='./data', train=False,\n",
        "                                        download=True, transform=transform)\n",
        "\n",
        "# criando dataset de validação a partir do dataset de treino\n",
        "# como dataset é suficientemente grande, amostras aleatórias são representativas (não exige extratificação)\n",
        "dataset_validation, dataset_train = torch.utils.data.random_split(dataset_train, [5000, 45000])"
      ],
      "execution_count": 2,
      "outputs": [
        {
          "output_type": "stream",
          "text": [
            "Files already downloaded and verified\n",
            "Files already downloaded and verified\n"
          ],
          "name": "stdout"
        }
      ]
    },
    {
      "metadata": {
        "id": "XjBE8_kND84x",
        "colab_type": "code",
        "colab": {}
      },
      "cell_type": "code",
      "source": [
        "# configurando dataset loaders\n",
        "\n",
        "train_loader = DataLoader(dataset=dataset_train, shuffle=True, batch_size=256)\n",
        "validation_loader = DataLoader(dataset=dataset_validation, shuffle=False, batch_size=256)\n",
        "test_loader = DataLoader(dataset=dataset_test, shuffle=False, batch_size=256)\n"
      ],
      "execution_count": 0,
      "outputs": []
    },
    {
      "metadata": {
        "id": "UYlpip8dD849",
        "colab_type": "code",
        "colab": {}
      },
      "cell_type": "code",
      "source": [
        "# definindo a arquitetura MLP\n",
        "\n",
        "# utilizando camada de entrada 32x32 e camada de saída 10\n",
        "# arquitetura da rede: 1024 x 100 x 50 x 30 x 10 (três camadas ocultas)\n",
        "# utilizando ReLU como função de ativação\n",
        "\n",
        "class MLP(nn.Module):\n",
        "    def __init__(self):\n",
        "        super(MLP, self).__init__()\n",
        "        self.fc1 = nn.Linear(32*32, 100)\n",
        "        self.fc2 = nn.Linear(100, 50)\n",
        "        self.fc3 = nn.Linear(50, 30)\n",
        "        self.fc4 = nn.Linear(30, 10)\n",
        "\n",
        "        self.activation_function = nn.ReLU()\n",
        "    def forward(self, x):\n",
        "        x = x.view(-1, 32*32)\n",
        "        x = self.activation_function(self.fc1(x))\n",
        "        x = self.activation_function(self.fc2(x))\n",
        "        x = self.activation_function(self.fc3(x))\n",
        "        x = self.activation_function(self.fc4(x))\n",
        "        return x\n",
        "    "
      ],
      "execution_count": 0,
      "outputs": []
    },
    {
      "metadata": {
        "id": "hkC4ienND85F",
        "colab_type": "code",
        "outputId": "6457bf0d-7ee9-4f87-f7d9-c4e9cb3e4f80",
        "colab": {
          "base_uri": "https://localhost:8080/",
          "height": 134
        }
      },
      "cell_type": "code",
      "source": [
        "# instanciando o modelo\n",
        "\n",
        "model = MLP()\n",
        "model.cuda()\n",
        "print(model)"
      ],
      "execution_count": 5,
      "outputs": [
        {
          "output_type": "stream",
          "text": [
            "MLP(\n",
            "  (fc1): Linear(in_features=1024, out_features=100, bias=True)\n",
            "  (fc2): Linear(in_features=100, out_features=50, bias=True)\n",
            "  (fc3): Linear(in_features=50, out_features=30, bias=True)\n",
            "  (fc4): Linear(in_features=30, out_features=10, bias=True)\n",
            "  (activation_function): ReLU()\n",
            ")\n"
          ],
          "name": "stdout"
        }
      ]
    },
    {
      "metadata": {
        "id": "dgApIM1fD85P",
        "colab_type": "code",
        "colab": {}
      },
      "cell_type": "code",
      "source": [
        "# definindo otimizador e loss\n",
        "\n",
        "optimizer = torch.optim.SGD(model.parameters(), lr = 0.01, momentum = 0.9)\n",
        "loss_fn = nn.CrossEntropyLoss()\n",
        "\n",
        "# outros otimizadores\n",
        "#loss_fn = torch.nn.MSELoss()\n",
        "#optimizer = torch.optim.Adam(model.parameters(), lr=0.001)\n"
      ],
      "execution_count": 0,
      "outputs": []
    },
    {
      "metadata": {
        "id": "JzQioaa3D85a",
        "colab_type": "code",
        "outputId": "78e6bd4d-7b45-4f80-950c-30b6d735a0b9",
        "colab": {
          "base_uri": "https://localhost:8080/",
          "height": 1697
        }
      },
      "cell_type": "code",
      "source": [
        "# realizando o treinamento\n",
        "\n",
        "epochs = 100\n",
        "train_losses = []\n",
        "running_losses_list = []\n",
        "train_accuracy_list = []\n",
        "#alpha = 0.001\n",
        "\n",
        "# caso utilizando onehot\n",
        "# to_onehot = torch.eye(10)\n",
        "\n",
        "for epoch in range(epochs):\n",
        "    model.train()\n",
        "    i = 0\n",
        "    running_loss = 0.0\n",
        "    accuracy = 0.0\n",
        "    total = 0\n",
        "    correct = 0\n",
        "    \n",
        "    \n",
        "    for images, labels in train_loader:\n",
        "        images = images.cuda()\n",
        "        labels = labels.cuda()\n",
        "        \n",
        "        optimizer.zero_grad()\n",
        "        \n",
        "        outputs = model(images)\n",
        "        \n",
        "        # caso utilizando onehot\n",
        "        # one_hot_labels = to_onehot[labels].cuda()\n",
        "        \n",
        "        # utilizando regularizador L2\n",
        "        #regularization_loss = 0\n",
        "        #for param in model.parameters():\n",
        "        #    regularization_loss += torch.sum(torch.abs(param))\n",
        "            \n",
        "        loss = loss_fn(outputs, labels) #+ alpha * regularization_loss\n",
        "        \n",
        "        loss.backward()\n",
        "        optimizer.step()\n",
        "        \n",
        "        i += 1\n",
        "        \n",
        "        train_losses.append(loss.item())\n",
        "        running_loss += loss.item()\n",
        "        \n",
        "        _, predicted = torch.max(outputs.data, 1)\n",
        "        total += labels.size(0)\n",
        "        correct += (predicted == labels).sum().item()\n",
        "        \n",
        "    accuracy = correct / total\n",
        "    train_accuracy_list.append(accuracy)\n",
        "        \n",
        "        \n",
        "    running_losses_list.append(running_loss)\n",
        "    print(\"Epoch: %5d \\t Loss: %.5f \\t Accuracy: %.5f\" %(epoch+1, running_loss, accuracy))"
      ],
      "execution_count": 7,
      "outputs": [
        {
          "output_type": "stream",
          "text": [
            "Epoch:     1 \t Loss: 403.33114 \t Accuracy: 0.14091\n",
            "Epoch:     2 \t Loss: 387.98918 \t Accuracy: 0.19020\n",
            "Epoch:     3 \t Loss: 373.94256 \t Accuracy: 0.23800\n",
            "Epoch:     4 \t Loss: 367.41417 \t Accuracy: 0.25720\n",
            "Epoch:     5 \t Loss: 362.63340 \t Accuracy: 0.27420\n",
            "Epoch:     6 \t Loss: 357.55544 \t Accuracy: 0.28942\n",
            "Epoch:     7 \t Loss: 352.23118 \t Accuracy: 0.29956\n",
            "Epoch:     8 \t Loss: 348.85278 \t Accuracy: 0.30593\n",
            "Epoch:     9 \t Loss: 341.64161 \t Accuracy: 0.32036\n",
            "Epoch:    10 \t Loss: 332.12394 \t Accuracy: 0.32689\n",
            "Epoch:    11 \t Loss: 326.78642 \t Accuracy: 0.33656\n",
            "Epoch:    12 \t Loss: 321.78187 \t Accuracy: 0.34704\n",
            "Epoch:    13 \t Loss: 317.97703 \t Accuracy: 0.35320\n",
            "Epoch:    14 \t Loss: 314.66692 \t Accuracy: 0.36156\n",
            "Epoch:    15 \t Loss: 311.60400 \t Accuracy: 0.36680\n",
            "Epoch:    16 \t Loss: 307.79097 \t Accuracy: 0.37747\n",
            "Epoch:    17 \t Loss: 305.04780 \t Accuracy: 0.38491\n",
            "Epoch:    18 \t Loss: 303.39721 \t Accuracy: 0.38818\n",
            "Epoch:    19 \t Loss: 298.79135 \t Accuracy: 0.39504\n",
            "Epoch:    20 \t Loss: 297.23331 \t Accuracy: 0.39938\n",
            "Epoch:    21 \t Loss: 295.31526 \t Accuracy: 0.40413\n",
            "Epoch:    22 \t Loss: 292.88092 \t Accuracy: 0.40771\n",
            "Epoch:    23 \t Loss: 290.99113 \t Accuracy: 0.41213\n",
            "Epoch:    24 \t Loss: 288.61026 \t Accuracy: 0.41709\n",
            "Epoch:    25 \t Loss: 286.50252 \t Accuracy: 0.42313\n",
            "Epoch:    26 \t Loss: 283.31363 \t Accuracy: 0.42996\n",
            "Epoch:    27 \t Loss: 283.48890 \t Accuracy: 0.42802\n",
            "Epoch:    28 \t Loss: 281.06752 \t Accuracy: 0.43296\n",
            "Epoch:    29 \t Loss: 279.35047 \t Accuracy: 0.43531\n",
            "Epoch:    30 \t Loss: 277.93935 \t Accuracy: 0.43862\n",
            "Epoch:    31 \t Loss: 275.42130 \t Accuracy: 0.44560\n",
            "Epoch:    32 \t Loss: 276.10487 \t Accuracy: 0.44664\n",
            "Epoch:    33 \t Loss: 273.22650 \t Accuracy: 0.45051\n",
            "Epoch:    34 \t Loss: 270.92363 \t Accuracy: 0.45504\n",
            "Epoch:    35 \t Loss: 270.51784 \t Accuracy: 0.45451\n",
            "Epoch:    36 \t Loss: 268.22900 \t Accuracy: 0.45944\n",
            "Epoch:    37 \t Loss: 266.59684 \t Accuracy: 0.46300\n",
            "Epoch:    38 \t Loss: 266.01656 \t Accuracy: 0.46413\n",
            "Epoch:    39 \t Loss: 266.04349 \t Accuracy: 0.46340\n",
            "Epoch:    40 \t Loss: 263.35998 \t Accuracy: 0.46911\n",
            "Epoch:    41 \t Loss: 260.25957 \t Accuracy: 0.47449\n",
            "Epoch:    42 \t Loss: 260.65862 \t Accuracy: 0.47427\n",
            "Epoch:    43 \t Loss: 260.07003 \t Accuracy: 0.47596\n",
            "Epoch:    44 \t Loss: 258.60034 \t Accuracy: 0.47973\n",
            "Epoch:    45 \t Loss: 256.69551 \t Accuracy: 0.48200\n",
            "Epoch:    46 \t Loss: 257.21533 \t Accuracy: 0.48044\n",
            "Epoch:    47 \t Loss: 255.10194 \t Accuracy: 0.48549\n",
            "Epoch:    48 \t Loss: 254.51714 \t Accuracy: 0.48764\n",
            "Epoch:    49 \t Loss: 252.42914 \t Accuracy: 0.48976\n",
            "Epoch:    50 \t Loss: 251.88738 \t Accuracy: 0.49267\n",
            "Epoch:    51 \t Loss: 249.91769 \t Accuracy: 0.49504\n",
            "Epoch:    52 \t Loss: 250.83962 \t Accuracy: 0.49267\n",
            "Epoch:    53 \t Loss: 248.34716 \t Accuracy: 0.49904\n",
            "Epoch:    54 \t Loss: 248.28271 \t Accuracy: 0.49782\n",
            "Epoch:    55 \t Loss: 247.15651 \t Accuracy: 0.50127\n",
            "Epoch:    56 \t Loss: 246.86970 \t Accuracy: 0.50304\n",
            "Epoch:    57 \t Loss: 245.35198 \t Accuracy: 0.50673\n",
            "Epoch:    58 \t Loss: 243.29236 \t Accuracy: 0.50987\n",
            "Epoch:    59 \t Loss: 242.29842 \t Accuracy: 0.51162\n",
            "Epoch:    60 \t Loss: 240.79419 \t Accuracy: 0.51353\n",
            "Epoch:    61 \t Loss: 240.86660 \t Accuracy: 0.51249\n",
            "Epoch:    62 \t Loss: 239.67148 \t Accuracy: 0.51727\n",
            "Epoch:    63 \t Loss: 240.05016 \t Accuracy: 0.51542\n",
            "Epoch:    64 \t Loss: 238.24835 \t Accuracy: 0.51760\n",
            "Epoch:    65 \t Loss: 238.57684 \t Accuracy: 0.51658\n",
            "Epoch:    66 \t Loss: 237.72369 \t Accuracy: 0.51773\n",
            "Epoch:    67 \t Loss: 235.08204 \t Accuracy: 0.52424\n",
            "Epoch:    68 \t Loss: 235.54613 \t Accuracy: 0.52698\n",
            "Epoch:    69 \t Loss: 234.31984 \t Accuracy: 0.52573\n",
            "Epoch:    70 \t Loss: 232.80781 \t Accuracy: 0.52996\n",
            "Epoch:    71 \t Loss: 232.99770 \t Accuracy: 0.52858\n",
            "Epoch:    72 \t Loss: 231.24197 \t Accuracy: 0.53573\n",
            "Epoch:    73 \t Loss: 231.68218 \t Accuracy: 0.53167\n",
            "Epoch:    74 \t Loss: 230.88371 \t Accuracy: 0.53307\n",
            "Epoch:    75 \t Loss: 231.04090 \t Accuracy: 0.53424\n",
            "Epoch:    76 \t Loss: 228.20172 \t Accuracy: 0.53978\n",
            "Epoch:    77 \t Loss: 227.20742 \t Accuracy: 0.53953\n",
            "Epoch:    78 \t Loss: 227.23021 \t Accuracy: 0.54124\n",
            "Epoch:    79 \t Loss: 226.42709 \t Accuracy: 0.54118\n",
            "Epoch:    80 \t Loss: 225.09819 \t Accuracy: 0.54596\n",
            "Epoch:    81 \t Loss: 223.18015 \t Accuracy: 0.54844\n",
            "Epoch:    82 \t Loss: 223.79308 \t Accuracy: 0.54762\n",
            "Epoch:    83 \t Loss: 223.91567 \t Accuracy: 0.54809\n",
            "Epoch:    84 \t Loss: 222.30213 \t Accuracy: 0.55022\n",
            "Epoch:    85 \t Loss: 221.92176 \t Accuracy: 0.55313\n",
            "Epoch:    86 \t Loss: 220.99679 \t Accuracy: 0.55098\n",
            "Epoch:    87 \t Loss: 221.14941 \t Accuracy: 0.55491\n",
            "Epoch:    88 \t Loss: 220.41356 \t Accuracy: 0.55540\n",
            "Epoch:    89 \t Loss: 220.00698 \t Accuracy: 0.55724\n",
            "Epoch:    90 \t Loss: 217.29285 \t Accuracy: 0.56209\n",
            "Epoch:    91 \t Loss: 218.26625 \t Accuracy: 0.55933\n",
            "Epoch:    92 \t Loss: 217.89650 \t Accuracy: 0.55876\n",
            "Epoch:    93 \t Loss: 217.41398 \t Accuracy: 0.56096\n",
            "Epoch:    94 \t Loss: 213.63098 \t Accuracy: 0.56982\n",
            "Epoch:    95 \t Loss: 214.00167 \t Accuracy: 0.56818\n",
            "Epoch:    96 \t Loss: 213.02279 \t Accuracy: 0.56860\n",
            "Epoch:    97 \t Loss: 212.80849 \t Accuracy: 0.57116\n",
            "Epoch:    98 \t Loss: 212.07835 \t Accuracy: 0.57224\n",
            "Epoch:    99 \t Loss: 214.66538 \t Accuracy: 0.56584\n",
            "Epoch:   100 \t Loss: 210.25806 \t Accuracy: 0.57678\n"
          ],
          "name": "stdout"
        }
      ]
    },
    {
      "metadata": {
        "id": "xpJcnYNbO65f",
        "colab_type": "code",
        "outputId": "ab5c049e-c2b5-4b92-ad3c-2a884297c6ee",
        "colab": {
          "base_uri": "https://localhost:8080/",
          "height": 545
        }
      },
      "cell_type": "code",
      "source": [
        "# plot dos resultados\n",
        "plt.plot(train_accuracy_list, label='')\n",
        "plt.title(\"Training Accuracy\")\n",
        "plt.show()\n",
        "\n",
        "plt.plot(running_losses_list, label='')\n",
        "plt.title(\"Training Losses\")\n",
        "plt.show()\n"
      ],
      "execution_count": 8,
      "outputs": [
        {
          "output_type": "display_data",
          "data": {
            "image/png": "[encoded data removed]",
            "text/plain": [
              "<Figure size 432x288 with 1 Axes>"
            ]
          },
          "metadata": {
            "tags": []
          }
        },
        {
          "output_type": "display_data",
          "data": {
            "image/png": "[encoded data removed]",
            "text/plain": [
              "<Figure size 432x288 with 1 Axes>"
            ]
          },
          "metadata": {
            "tags": []
          }
        }
      ]
    },
    {
      "metadata": {
        "id": "_XTK8DLmD85k",
        "colab_type": "code",
        "outputId": "b97ea104-3d53-4ba8-8e13-d992f4e981f6",
        "colab": {
          "base_uri": "https://localhost:8080/",
          "height": 34
        }
      },
      "cell_type": "code",
      "source": [
        "# avaliando o modelo aqui (no conjunto de validação) (ou teste, caso entrega)\n",
        "\n",
        "test_losses = []\n",
        "test_accuracies = []\n",
        "\n",
        "model.eval()\n",
        "correct = 0\n",
        "total = 0\n",
        "with torch.no_grad():\n",
        "    for images, labels in test_loader: #validation_loader\n",
        "        images = images.cuda()\n",
        "        labels = labels.cuda()\n",
        "        \n",
        "        outputs = model(images)\n",
        "        \n",
        "        #one_hot_labels = to_onehot[labels].cuda()\n",
        "        \n",
        "        #regularization_loss = 0\n",
        "        #for param in model.parameters():\n",
        "        #    regularization_loss += torch.sum(torch.abs(param))\n",
        "            \n",
        "        loss = loss_fn(outputs, labels)# + alpha * regularization_loss\n",
        "\n",
        "        test_losses.append(loss.item())\n",
        "        \n",
        "        _, predicted = torch.max(outputs.data, 1)\n",
        "        total += labels.size(0)\n",
        "        correct += (predicted == labels).sum().item()\n",
        "        \n",
        "        \n",
        "accuracy = correct / total\n",
        "\n",
        "#test_accuracies.append(accuracy)\n",
        "print('Epochs: {} \\t Train Loss: {:.4f} \\t Test Loss: {:.4f} \\t Test Accuracy: {:.2f}'\\\n",
        "     .format(epoch+1, np.mean(train_losses), np.mean(test_losses), accuracy))"
      ],
      "execution_count": 9,
      "outputs": [
        {
          "output_type": "stream",
          "text": [
            "Epochs: 100 \t Train Loss: 1.4968 \t Test Loss: 1.7159 \t Test Accuracy: 0.44\n"
          ],
          "name": "stdout"
        }
      ]
    },
    {
      "metadata": {
        "id": "1XRNiCgkrv2o",
        "colab_type": "code",
        "outputId": "19f0cbac-606f-4ed1-ebcf-034ae8c8cf2a",
        "colab": {
          "base_uri": "https://localhost:8080/",
          "height": 185
        }
      },
      "cell_type": "code",
      "source": [
        "# print da acurácia individual de cada classe\n",
        "\n",
        "classes = ('plane', 'car', 'bird', 'cat', 'deer', 'dog', 'frog', 'horse', 'ship', 'truck')\n",
        "\n",
        "class_correct = list(0. for i in range(10))\n",
        "class_total = list(0. for i in range(10))\n",
        "\n",
        "with torch.no_grad():\n",
        "    for images, labels in test_loader: #validation_loader\n",
        "        images = images.cuda()\n",
        "        labels = labels.cuda()\n",
        "        \n",
        "        outputs = model(images)\n",
        "        \n",
        "        _, predicted = torch.max(outputs, 1)\n",
        "        c = (predicted == labels).squeeze()\n",
        "        \n",
        "        for i in range(4):\n",
        "            label = labels[i]\n",
        "            class_correct[label] += c[i].item()\n",
        "            class_total[label] += 1\n",
        "\n",
        "\n",
        "for i in range(10):\n",
        "    print('Accuracy of %5s : %2d %%' % (classes[i], 100 * class_correct[i] / class_total[i]))"
      ],
      "execution_count": 10,
      "outputs": [
        {
          "output_type": "stream",
          "text": [
            "Accuracy of plane : 18 %\n",
            "Accuracy of   car : 61 %\n",
            "Accuracy of  bird : 38 %\n",
            "Accuracy of   cat : 22 %\n",
            "Accuracy of  deer :  0 %\n",
            "Accuracy of   dog : 46 %\n",
            "Accuracy of  frog : 44 %\n",
            "Accuracy of horse : 50 %\n",
            "Accuracy of  ship : 66 %\n",
            "Accuracy of truck : 47 %\n"
          ],
          "name": "stdout"
        }
      ]
    },
    {
      "metadata": {
        "id": "37YW7JCb25Yj",
        "colab_type": "text"
      },
      "cell_type": "markdown",
      "source": [
        "Alguns resultados utilizando conjunto de validação:\n",
        "\n",
        "\n",
        "---\n",
        "\n",
        "\n",
        "#Utilizando a arquitetura:\n",
        "\n",
        "MLP(\n",
        "\n",
        "    (fc1): Linear(in_features=1024, out_features=100, bias=True)\n",
        "    (fc2): Linear(in_features=100, out_features=50, bias=True)\n",
        "    (fc3): Linear(in_features=50, out_features=30, bias=True)\n",
        "    (fc4): Linear(in_features=30, out_features=10, bias=True)\n",
        "    (activation_function): ReLU()\n",
        " )\n",
        "\n",
        "#Parâmetros:\n",
        "\n",
        "1.   learningRate = 0.01, optimizer = SGD, lossFn = MSE, batchSize = 256\n",
        "\n",
        "2.   learningRate = 0.001, optimizer = Adam, lossFn = CrossEntropy, batchSize = 32\n",
        "\n",
        "3.   learningRate = 0.001, optimizer = Adam, lossFn = CrossEntropy, batchSize = 256\n",
        "\n",
        "4.   learningRate = 0.01, optimizer = Adam, lossFn = CrossEntropy, batchSize = 256\n",
        "\n",
        "#Resultados:\n",
        "\n",
        "1.   Epochs: 100 \t Train Loss: 0.0911 \t Validation Loss: 0.0883 \t Validation Accuracy: 0.23\n",
        "\n",
        "2.   Epochs: 100 \t Train Loss: 1.8516 \t Validation Loss: 2.0312 \t Validation Accuracy: 0.32\n",
        "\n",
        "3.   Epochs: 100 \t Train Loss: 1.6239 \t Validation Loss: 1.7859 \t Validation Accuracy: 0.40\n",
        "\n",
        "4.   Epochs: 100 \t Train Loss: 2.0603 \t Validation Loss: 2.1012 \t Validation Accuracy: 0.26\n",
        "\n",
        "---\n",
        "\n",
        "\n",
        "#Utilizando a arquitetura:\n",
        "\n",
        "MLP(\n",
        "\n",
        "    (fc1): Linear(in_features=1024, out_features=100, bias=True)\n",
        "    (fc2): Linear(in_features=100, out_features=50, bias=True)\n",
        "    (fc3): Linear(in_features=50, out_features=30, bias=True)\n",
        "    (fc4): Linear(in_features=30, out_features=10, bias=True)\n",
        "    (activation_function): Sigmoid()\n",
        " )\n",
        "\n",
        "#Parâmetros:\n",
        "\n",
        "1.  learningRate = 0.001, optimizer = Adam, lossFn = CrossEntropy, batchSize = 256\n",
        "\n",
        "2.  learningRate = 0.001, momentum = 0.9, optimizer = SGD, lossFn = CrossEntropy, batchSize = 256\n",
        "\n",
        "#Resultados:\n",
        "\n",
        "1.  Epochs: 100 \t Train Loss: 2.0061 \t Validation Loss: 1.9997 \t Validation Accuracy: 0.32\n",
        "\n",
        "2.  Epochs: 100 \t Train Loss: 1.7223 \t Validation Loss: 1.7345 \t Validation Accuracy: 0.42\n",
        "\n",
        "---\n",
        "\n",
        "\n",
        "#Utilizando a arquitetura:\n",
        "\n",
        "MLP(\n",
        "\n",
        "    (fc1): Linear(in_features=1024, out_features=200, bias=True)\n",
        "    (fc2): Linear(in_features=200, out_features=150, bias=True)\n",
        "    (fc3): Linear(in_features=150, out_features=100, bias=True)\n",
        "    (fc4): Linear(in_features=100, out_features=80, bias=True)\n",
        "    (fc5): Linear(in_features=80, out_features=50, bias=True)\n",
        "    (fc6): Linear(in_features=50, out_features=30, bias=True)\n",
        "    (fc7): Linear(in_features=30, out_features=10, bias=True)\n",
        "    (activation_function): ReLU()\n",
        ")\n",
        "\n",
        "#Parâmetros:\n",
        "\n",
        "1.   learningRate = 0.001, optimizer = Adam, lossFn = CrossEntropy, batchSize = 256\n",
        "\n",
        "#Resultados:\n",
        "\n",
        "1.   Epochs: 100 \t Train Loss: 1.6909 \t Validation Loss: 2.4314 \t Validation Accuracy: 0.33\n",
        "\n",
        "---\n",
        "\n",
        "\n",
        "#Utilizando a arquitetura:\n",
        "\n",
        "MLP(\n",
        "\n",
        "    (fc1): Linear(in_features=1024, out_features=30, bias=True)\n",
        "    (fc2): Linear(in_features=30, out_features=20, bias=True)\n",
        "    (fc3): Linear(in_features=20, out_features=10, bias=True)\n",
        "    (activation_function): ReLU()\n",
        ")\n",
        "\n",
        "#Parâmetros:\n",
        "\n",
        "1.  learningRate = 0.001, optimizer = Adam, lossFn = CrossEntropy, batchSize = 256\n",
        "\n",
        "#Resultados:\n",
        "\n",
        "1.  Epochs: 100 \t Train Loss: 1.8636 \t Validation Loss: 1.8863 \t Validation Accuracy: 0.35\n",
        "\n"
      ]
    },
    {
      "metadata": {
        "id": "kCNHjNZMRIK-",
        "colab_type": "text"
      },
      "cell_type": "markdown",
      "source": [
        "---\n",
        "# Resultados Finais\n",
        "# Utilizando a arquitetura:\n",
        "\n",
        "MLP(\n",
        "\n",
        "    (fc1): Linear(in_features=1024, out_features=100, bias=True)\n",
        "    (fc2): Linear(in_features=100, out_features=50, bias=True)\n",
        "    (fc3): Linear(in_features=50, out_features=30, bias=True)\n",
        "    (fc4): Linear(in_features=30, out_features=10, bias=True)\n",
        "    (activation_function): Sigmoid()\n",
        " )\n",
        " \n",
        "#Parâmetros:\n",
        "\n",
        "1.  learningRate = 0.01, momentum = 0.9, optimizer = SGD, lossFn = CrossEntropy, batchSize = 256\n",
        "\n",
        "#Resultados:\n",
        "\n",
        "1.  Epochs: 100 \t Train Loss: 1.4968 \t Test Loss: 1.7159 \t Test Accuracy: 0.44\n",
        " "
      ]
    }
  ]
}